{
 "cells": [
  {
   "cell_type": "code",
   "execution_count": null,
   "metadata": {
    "vscode": {
     "languageId": "r"
    }
   },
   "outputs": [],
   "source": [
    "# Install required packages\n",
    "install.packages(c(\"ggplot2\", \"forecast\", \"TSA\", \"tseries\", \"dplyr\",\n",
    "                   \"knitr\", \"gridExtra\", \"MASS\", \"lawstat\",\n",
    "                   \"FinTS\", \"ggthemes\"))"
   ]
  },
  {
   "cell_type": "code",
   "execution_count": null,
   "metadata": {
    "vscode": {
     "languageId": "r"
    }
   },
   "outputs": [],
   "source": [
    "# Define the plot size\n",
    "options(repr.plot.width = 24, repr.plot.height = 12)"
   ]
  },
  {
   "cell_type": "code",
   "execution_count": null,
   "metadata": {
    "vscode": {
     "languageId": "r"
    }
   },
   "outputs": [],
   "source": [
    "# Load required libraries\n",
    "library(ggplot2)\n",
    "library(forecast)\n",
    "library(tseries)\n",
    "library(TSA)\n",
    "library(dplyr)\n",
    "library(gridExtra)\n",
    "library(knitr)\n",
    "library(MASS)\n",
    "library(lawstat) # For runs test\n",
    "library(FinTS)   # For ARCH test"
   ]
  },
  {
   "cell_type": "markdown",
   "metadata": {},
   "source": [
    "# ==========================================\n",
    "# 1. DATA LOADING AND EXPLORATION\n",
    "# =========================================="
   ]
  },
  {
   "cell_type": "code",
   "execution_count": null,
   "metadata": {
    "vscode": {
     "languageId": "r"
    }
   },
   "outputs": [],
   "source": [
    "# Load the temperature data (avoid using 'ts' as variable name)\n",
    "temp_data <- read.csv(\"../data/algiers_temp.csv\")"
   ]
  },
  {
   "cell_type": "code",
   "execution_count": null,
   "metadata": {
    "vscode": {
     "languageId": "r"
    }
   },
   "outputs": [],
   "source": [
    "# Convert the Date column to Date format\n",
    "temp_data$time <- as.Date(temp_data$time)"
   ]
  },
  {
   "cell_type": "code",
   "execution_count": null,
   "metadata": {
    "vscode": {
     "languageId": "r"
    }
   },
   "outputs": [],
   "source": [
    "# Display the first few rows\n",
    "cat(\"First 5 rows of data:\\n\")\n",
    "print(head(temp_data, 5))   "
   ]
  },
  {
   "cell_type": "code",
   "execution_count": null,
   "metadata": {
    "vscode": {
     "languageId": "r"
    }
   },
   "outputs": [],
   "source": [
    "# Display basic information about the dataset\n",
    "cat(\"\\nDataset info:\\n\")\n",
    "str(temp_data)"
   ]
  },
  {
   "cell_type": "code",
   "execution_count": null,
   "metadata": {
    "vscode": {
     "languageId": "r"
    }
   },
   "outputs": [],
   "source": [
    "# Display summary statistics\n",
    "cat(\"\\nSummary statistics:\\n\")\n",
    "print(summary(temp_data))"
   ]
  },
  {
   "cell_type": "code",
   "execution_count": null,
   "metadata": {
    "vscode": {
     "languageId": "r"
    }
   },
   "outputs": [],
   "source": [
    "# Create a proper time series object with daily frequency\n",
    "temp_ts <- ts(temp_data$temperature, frequency = 365.25)"
   ]
  },
  {
   "cell_type": "markdown",
   "metadata": {},
   "source": [
    "\n",
    "# ==========================================\n",
    "# 2. TIME SERIES VISUALIZATION\n",
    "# =========================================="
   ]
  },
  {
   "cell_type": "code",
   "execution_count": null,
   "metadata": {
    "vscode": {
     "languageId": "r"
    }
   },
   "outputs": [],
   "source": [
    "# Plot the temperature data\n",
    "p1 <- ggplot(temp_data, aes(x = time, y = temperature)) +\n",
    "  geom_line(color = \"blue\") +\n",
    "  labs(title = \"Algiers Temperature Data (2002-2023)\",\n",
    "       x = \"Date\", y = \"Temperature in Celsius\") +\n",
    "  theme_minimal() +\n",
    "  theme(plot.title = element_text(hjust = 0.5))\n",
    "print(p1)"
   ]
  },
  {
   "cell_type": "code",
   "execution_count": null,
   "metadata": {
    "vscode": {
     "languageId": "r"
    }
   },
   "outputs": [],
   "source": [
    "# Convert to monthly data for better seasonal analysis\n",
    "monthly_temps <- aggregate(temperature ~ format(time, \"%Y-%m\"), temp_data, mean)\n",
    "names(monthly_temps) <- c(\"yearmonth\", \"temperature\")\n"
   ]
  },
  {
   "cell_type": "code",
   "execution_count": null,
   "metadata": {
    "vscode": {
     "languageId": "r"
    }
   },
   "outputs": [],
   "source": [
    "# Convert to time series object\n",
    "monthly_temp_ts <- ts(monthly_temps$temperature, frequency = 12, \n",
    "                      start = c(2002, 1))"
   ]
  },
  {
   "cell_type": "code",
   "execution_count": null,
   "metadata": {
    "vscode": {
     "languageId": "r"
    }
   },
   "outputs": [],
   "source": [
    "# Perform decomposition\n",
    "decomp_monthly <- decompose(monthly_temp_ts)"
   ]
  },
  {
   "cell_type": "code",
   "execution_count": null,
   "metadata": {
    "vscode": {
     "languageId": "r"
    }
   },
   "outputs": [],
   "source": [
    "# Create separate plots for each component\n",
    "par(bg = \"white\")\n",
    "par(mfrow = c(4, 1), mar = c(2, 4, 2, 1))\n",
    "plot(monthly_temp_ts, main = \"Original Series\", ylab = \"Temperature (°C)\")\n",
    "plot(decomp_monthly$trend, main = \"Trend Component\", ylab = \"Trend\")\n",
    "plot(decomp_monthly$seasonal, main = \"Seasonal Component\", ylab = \"Seasonal\")\n",
    "plot(decomp_monthly$random, main = \"Random Component\", ylab = \"Random\")\n",
    "par(mfrow = c(1, 1))"
   ]
  },
  {
   "cell_type": "markdown",
   "metadata": {},
   "source": [
    "# ==========================================\n",
    "# 3. STATIONARITY TESTING\n",
    "# =========================================="
   ]
  },
  {
   "cell_type": "code",
   "execution_count": null,
   "metadata": {
    "vscode": {
     "languageId": "r"
    }
   },
   "outputs": [],
   "source": [
    "# Check for stationarity visually with ACF and PACF plots\n",
    "par(bg = \"white\")\n",
    "par(mfrow = c(1, 2))\n",
    "acf(temp_ts, main = \"ACF of Algiers Temperature\", lag.max = 100)\n",
    "pacf(temp_ts, main = \"PACF of Algiers Temperature\", lag.max = 100)\n",
    "par(mfrow = c(1, 1))"
   ]
  },
  {
   "cell_type": "code",
   "execution_count": null,
   "metadata": {
    "vscode": {
     "languageId": "r"
    }
   },
   "outputs": [],
   "source": [
    "# Formal stationarity test\n",
    "adf_test <- adf.test(temp_ts)\n",
    "print(\"Augmented Dickey-Fuller Test for Stationarity:\")\n",
    "print(adf_test)"
   ]
  },
  {
   "cell_type": "code",
   "execution_count": null,
   "metadata": {
    "vscode": {
     "languageId": "r"
    }
   },
   "outputs": [],
   "source": [
    "\n",
    "# KPSS test for stationarity (alternative test)\n",
    "kpss_test <- kpss.test(temp_ts)\n",
    "print(\"KPSS Test for Stationarity:\")\n",
    "print(kpss_test)"
   ]
  },
  {
   "cell_type": "code",
   "execution_count": null,
   "metadata": {
    "vscode": {
     "languageId": "r"
    }
   },
   "outputs": [],
   "source": [
    "# Conclusion on stationarity\n",
    "if (adf_test$p.value >= 0.05) {\n",
    "  cat(\"ADF test: The series is NOT stationary (p >= 0.05)\\n\")\n",
    "} else {\n",
    "  cat(\"ADF test: The series is stationary (p < 0.05)\\n\")\n",
    "}\n",
    "\n",
    "if (kpss_test$p.value < 0.05) {\n",
    "  cat(\"KPSS test: The series is NOT stationary (p < 0.05)\\n\")\n",
    "} else {\n",
    "  cat(\"KPSS test: The series is stationary (p >= 0.05)\\n\")\n",
    "}"
   ]
  },
  {
   "cell_type": "markdown",
   "metadata": {},
   "source": [
    "# ==========================================\n",
    "# 4. DATA TRANSFORMATIONS\n",
    "# =========================================="
   ]
  },
  {
   "cell_type": "code",
   "execution_count": null,
   "metadata": {
    "vscode": {
     "languageId": "r"
    }
   },
   "outputs": [],
   "source": [
    "# Check if we need to stabilize variance\n",
    "lambda <- BoxCox.lambda(monthly_temp_ts)\n",
    "cat(\"\\nOptimal lambda for Box-Cox transformation:\", lambda, \"\\n\")"
   ]
  },
  {
   "cell_type": "code",
   "execution_count": null,
   "metadata": {
    "vscode": {
     "languageId": "r"
    }
   },
   "outputs": [],
   "source": [
    "# Show Box-Cox transformation lambda selection plot\n",
    "par(bg = \"white\")\n",
    "boxcox(temp_ts ~ time(temp_ts),\n",
    "       lambda = seq(-2, 2, by = 0.1),\n",
    "       plotit = TRUE,\n",
    "       main = \"Box-Cox Transformation Parameter Selection\")"
   ]
  },
  {
   "cell_type": "code",
   "execution_count": null,
   "metadata": {
    "vscode": {
     "languageId": "r"
    }
   },
   "outputs": [],
   "source": [
    "# Apply Box-Cox transformation\n",
    "temp_boxcox <- BoxCox(temp_ts, lambda)\n",
    "cat(\"Box-Cox transformation applied with lambda =\", lambda, \"\\n\")\n"
   ]
  },
  {
   "cell_type": "code",
   "execution_count": null,
   "metadata": {
    "vscode": {
     "languageId": "r"
    }
   },
   "outputs": [],
   "source": [
    "# Plot the transformed series\n",
    "autoplot(temp_boxcox) +\n",
    "  labs(title = \"Transformed Algiers Temperature\",\n",
    "       x = \"Time\",\n",
    "       y = \"Transformed Temperature\") +\n",
    "  theme_minimal() +\n",
    "  theme(plot.title = element_text(hjust = 0.5))"
   ]
  },
  {
   "cell_type": "code",
   "execution_count": null,
   "metadata": {
    "vscode": {
     "languageId": "r"
    }
   },
   "outputs": [],
   "source": [
    "# Apply seasonal differencing with monthly data (lag=12)\n",
    "temp_seasonal_diff <- diff(temp_boxcox, lag = 12)"
   ]
  },
  {
   "cell_type": "code",
   "execution_count": null,
   "metadata": {
    "vscode": {
     "languageId": "r"
    }
   },
   "outputs": [],
   "source": [
    "# Plot the seasonally differenced series\n",
    "autoplot(temp_seasonal_diff) +\n",
    "  labs(title = \"Seasonally Differenced Temperature\",\n",
    "       x = \"Time\",\n",
    "       y = \"Differenced Value\") +\n",
    "  theme_minimal() +\n",
    "  theme(plot.title = element_text(hjust = 0.5))"
   ]
  },
  {
   "cell_type": "code",
   "execution_count": null,
   "metadata": {
    "vscode": {
     "languageId": "r"
    }
   },
   "outputs": [],
   "source": [
    "# Check stationarity of seasonally differenced series\n",
    "adf_test_seasonal <- adf.test(temp_seasonal_diff)\n",
    "print(\"ADF Test after seasonal differencing:\")\n",
    "print(adf_test_seasonal)"
   ]
  },
  {
   "cell_type": "code",
   "execution_count": null,
   "metadata": {
    "vscode": {
     "languageId": "r"
    }
   },
   "outputs": [],
   "source": [
    "# Conclusion on stationarity\n",
    "if (adf_test_seasonal$p.value >= 0.05) {\n",
    "  cat(\"ADF test: The series is NOT stationary (p >= 0.05)\\n\")\n",
    "} else {\n",
    "  cat(\"ADF test: The series is stationary (p < 0.05)\\n\")\n",
    "}"
   ]
  },
  {
   "cell_type": "code",
   "execution_count": null,
   "metadata": {
    "vscode": {
     "languageId": "r"
    }
   },
   "outputs": [],
   "source": [
    "# Check ACF and PACF of differenced series\n",
    "par(bg = \"white\")\n",
    "par(mfrow = c(1, 2))\n",
    "acf(bitcoin_d1, main = \"ACF of Differenced Series\", lag.max = 100)\n",
    "pacf(bitcoin_d1, main = \"PACF of Differenced Series\", lag.max = 100)\n",
    "par(mfrow = c(1, 1))"
   ]
  },
  {
   "cell_type": "markdown",
   "metadata": {},
   "source": [
    "# ==========================================\n",
    "# 5. MODEL SPECIFICATION AND SELECTION\n",
    "# =========================================="
   ]
  },
  {
   "cell_type": "code",
   "execution_count": 76,
   "metadata": {
    "vscode": {
     "languageId": "r"
    }
   },
   "outputs": [],
   "source": [
    "# Auto ARIMA for automatic model selection\n",
    "auto_arima_model <- auto.arima(temp_boxcox, \n",
    "                               seasonal = TRUE,\n",
    "                               stepwise = FALSE,\n",
    "                               approximation = FALSE)\n",
    "summary(auto_arima_model)"
   ]
  },
  {
   "cell_type": "code",
   "execution_count": null,
   "metadata": {
    "vscode": {
     "languageId": "r"
    }
   },
   "outputs": [],
   "source": [
    "# Plot the BIC values\n",
    "par(bg = \"white\")\n",
    "plot(arma_subset, legendtex = NULL,\n",
    "     main = \"BIC Values for Different ARMA Models\")"
   ]
  },
  {
   "cell_type": "code",
   "execution_count": null,
   "metadata": {
    "vscode": {
     "languageId": "r"
    }
   },
   "outputs": [],
   "source": [
    "# Split the data for forecasting validation\n",
    "n <- length(bitcoin_ts)\n",
    "train_size <- n - 30  # Leave last 30 observations for testing\n",
    "\n",
    "# Use direct subsetting instead of window()\n",
    "bitcoin_train <- ts(bitcoin_ts[1:train_size], frequency = frequency(bitcoin_ts))\n",
    "bitcoin_test <- ts(bitcoin_ts[(train_size + 1):n],\n",
    "                   frequency = frequency(bitcoin_ts))\n",
    "\n",
    "# Apply log transformation to training data\n",
    "bitcoin_train_boxcox <- log(bitcoin_train)"
   ]
  },
  {
   "cell_type": "markdown",
   "metadata": {},
   "source": [
    "# ==========================================\n",
    "# 6. MODEL FITTING AND COMPARISON\n",
    "# =========================================="
   ]
  },
  {
   "cell_type": "markdown",
   "metadata": {},
   "source": [
    "# ==========================================\n",
    "# 7. DIAGNOSTIC CHECKING\n",
    "# =========================================="
   ]
  },
  {
   "cell_type": "code",
   "execution_count": null,
   "metadata": {
    "vscode": {
     "languageId": "r"
    }
   },
   "outputs": [],
   "source": [
    "# Standard diagnostic checking\n",
    "checkresiduals(best_model)"
   ]
  },
  {
   "cell_type": "code",
   "execution_count": null,
   "metadata": {
    "vscode": {
     "languageId": "r"
    }
   },
   "outputs": [],
   "source": [
    "# Add more diagnostic tests for the best model\n",
    "cat(\"\\n======== Additional Diagnostic Tests for Best Model ========\\n\")"
   ]
  },
  {
   "cell_type": "code",
   "execution_count": null,
   "metadata": {
    "vscode": {
     "languageId": "r"
    }
   },
   "outputs": [],
   "source": [
    "# Extract residuals from the best model\n",
    "residuals_best <- residuals(best_model)"
   ]
  },
  {
   "cell_type": "code",
   "execution_count": null,
   "metadata": {
    "vscode": {
     "languageId": "r"
    }
   },
   "outputs": [],
   "source": [
    "# Shapiro-Wilk test for normality\n",
    "sw_test <- shapiro.test(residuals_best)\n",
    "cat(\"\\nShapiro-Wilk test for normality:\\n\")\n",
    "print(sw_test)\n",
    "if (sw_test$p.value < 0.05) {\n",
    "  cat(\"Conclusion: Residuals are NOT normally distributed (p < 0.05)\\n\")\n",
    "} else {\n",
    "  cat(\"Conclusion: Residuals appear to be normally distributed (p >= 0.05)\\n\")\n",
    "}"
   ]
  },
  {
   "cell_type": "code",
   "execution_count": null,
   "metadata": {
    "vscode": {
     "languageId": "r"
    }
   },
   "outputs": [],
   "source": [
    "# Runs test for randomness\n",
    "runs_test <- runs.test(residuals_best)\n",
    "cat(\"\\nRuns test for randomness:\\n\")\n",
    "print(runs_test)\n",
    "if (runs_test$p.value < 0.05) {\n",
    "  cat(\"Conclusion: Residuals are NOT random (p < 0.05)\\n\")\n",
    "} else {\n",
    "  cat(\"Conclusion: Residuals appear to be random (p >= 0.05)\\n\")\n",
    "}"
   ]
  },
  {
   "cell_type": "code",
   "execution_count": null,
   "metadata": {
    "vscode": {
     "languageId": "r"
    }
   },
   "outputs": [],
   "source": [
    "# Ljung-Box test for autocorrelation (again, but with detailed output)\n",
    "lb_test <- Box.test(residuals_best, lag = 20, type = \"Ljung-Box\")\n",
    "cat(\"\\nLjung-Box test for autocorrelation (lag=20):\\n\")\n",
    "print(lb_test)\n",
    "if (lb_test$p.value < 0.05) {\n",
    "  cat(\"Conclusion: Residuals have significant autocorrelation (p < 0.05)\\n\")\n",
    "} else {\n",
    "  cat(\"Conclusion: No significant autocorrelation in residuals (p >= 0.05)\\n\")\n",
    "}"
   ]
  },
  {
   "cell_type": "code",
   "execution_count": null,
   "metadata": {
    "vscode": {
     "languageId": "r"
    }
   },
   "outputs": [],
   "source": [
    "# McLeod-Li test for ARCH effects\n",
    "mcleod_li_test <- Box.test(residuals_best^2, lag = 20, type = \"Ljung-Box\")\n",
    "cat(\"\\nMcLeod-Li test for ARCH effects:\\n\")\n",
    "print(mcleod_li_test)\n",
    "if (mcleod_li_test$p.value < 0.05) {\n",
    "  cat(\"Conclusion: ARCH effects present in residuals (p < 0.05)\\n\")\n",
    "} else {\n",
    "  cat(\"Conclusion: No significant ARCH effects in residuals (p >= 0.05)\\n\")\n",
    "}"
   ]
  },
  {
   "cell_type": "markdown",
   "metadata": {},
   "source": [
    "# ==========================================\n",
    "# 8. FORECASTING EVALUATION\n",
    "# ==========================================\n"
   ]
  },
  {
   "cell_type": "code",
   "execution_count": null,
   "metadata": {
    "vscode": {
     "languageId": "r"
    }
   },
   "outputs": [],
   "source": [
    "# Forecast with the best model\n",
    "forecast_horizon <- length(bitcoin_test)\n",
    "forecasts <- forecast(best_model, h=forecast_horizon)"
   ]
  },
  {
   "cell_type": "code",
   "execution_count": null,
   "metadata": {
    "vscode": {
     "languageId": "r"
    }
   },
   "outputs": [],
   "source": [
    "# Inverse log transform forecasts\n",
    "forecasts_original <- exp(forecasts$mean)"
   ]
  },
  {
   "cell_type": "code",
   "execution_count": null,
   "metadata": {
    "vscode": {
     "languageId": "r"
    }
   },
   "outputs": [],
   "source": [
    "# Combine with actual test data for comparison\n",
    "forecast_comparison <- data.frame(\n",
    "  Date = tail(bitcoin_data$Date, forecast_horizon),\n",
    "  Actual = as.numeric(bitcoin_test),\n",
    "  Forecast = as.numeric(forecasts_original)\n",
    ")"
   ]
  },
  {
   "cell_type": "code",
   "execution_count": null,
   "metadata": {
    "vscode": {
     "languageId": "r"
    }
   },
   "outputs": [],
   "source": [
    "# Calculate forecast accuracy metrics manually\n",
    "f_values <- as.numeric(forecasts_original)\n",
    "a_values <- as.numeric(bitcoin_test)"
   ]
  },
  {
   "cell_type": "code",
   "execution_count": null,
   "metadata": {
    "vscode": {
     "languageId": "r"
    }
   },
   "outputs": [],
   "source": [
    "# Calculate accuracy metrics manually\n",
    "me <- mean(f_values - a_values)\n",
    "rmse <- sqrt(mean((f_values - a_values)^2))\n",
    "mae <- mean(abs(f_values - a_values))\n",
    "mape <- mean(abs((f_values - a_values)/a_values)) * 100"
   ]
  },
  {
   "cell_type": "code",
   "execution_count": null,
   "metadata": {
    "vscode": {
     "languageId": "r"
    }
   },
   "outputs": [],
   "source": [
    "# Create a data frame with the accuracy metrics\n",
    "accuracy_metrics <- data.frame(\n",
    "  ME = me,\n",
    "  RMSE = rmse,\n",
    "  MAE = mae,\n",
    "  MAPE = mape\n",
    ")\n",
    "\n",
    "print(\"Forecast Accuracy Metrics:\")\n",
    "print(accuracy_metrics)\n"
   ]
  },
  {
   "cell_type": "code",
   "execution_count": null,
   "metadata": {
    "vscode": {
     "languageId": "r"
    }
   },
   "outputs": [],
   "source": [
    "# Plot forecasts vs actual values\n",
    "p4 <- ggplot(forecast_comparison, aes(x = Date)) +\n",
    "  geom_line(aes(y = Actual, color = \"Actual\"), size = 1) +\n",
    "  geom_line(aes(y = Forecast, color = \"Forecast\"), size = 1) +\n",
    "  labs(title = \"Bitcoin Price: Forecast vs Actual\",\n",
    "       x = \"Date\", y = \"Price (USD)\") +\n",
    "  scale_color_manual(values = c(\"Actual\" = \"blue\", \"Forecast\" = \"red\")) +\n",
    "  theme_minimal() +\n",
    "  theme(plot.title = element_text(hjust = 0.5, face = \"bold\"),\n",
    "        legend.title = element_blank())\n",
    "print(p4)"
   ]
  },
  {
   "cell_type": "code",
   "execution_count": null,
   "metadata": {
    "vscode": {
     "languageId": "r"
    }
   },
   "outputs": [],
   "source": [
    "# 4. Forecast visualization with prediction intervals\n",
    "# Create a forecast object with prediction intervals\n",
    "forecast_full <- forecast(best_model, h = forecast_horizon)\n",
    "\n",
    "# Convert to dataframe for ggplot\n",
    "forecast_df <- data.frame(\n",
    "  Time = 1:forecast_horizon,\n",
    "  Forecast = InvBoxCox(forecast_full$mean, lambda),\n",
    "  Lower80 = InvBoxCox(forecast_full$lower[,1], lambda),\n",
    "  Upper80 = InvBoxCox(forecast_full$upper[,1], lambda),\n",
    "  Lower95 = InvBoxCox(forecast_full$lower[,2], lambda),\n",
    "  Upper95 = InvBoxCox(forecast_full$upper[,2], lambda),\n",
    "  Actual = as.numeric(bitcoin_test)\n",
    ")"
   ]
  },
  {
   "cell_type": "code",
   "execution_count": null,
   "metadata": {
    "vscode": {
     "languageId": "r"
    }
   },
   "outputs": [],
   "source": [
    "# Plot with ggplot2\n",
    "forecast_plot <- ggplot(forecast_df, aes(x = Time)) +\n",
    "  geom_ribbon(aes(ymin = Lower95, ymax = Upper95, fill = \"95% PI\"), alpha = 0.2) +\n",
    "  geom_ribbon(aes(ymin = Lower80, ymax = Upper80, fill = \"80% PI\"), alpha = 0.3) +\n",
    "  geom_line(aes(y = Forecast, color = \"Forecast\"), size = 1) +\n",
    "  geom_line(aes(y = Actual, color = \"Actual\"), size = 1) +\n",
    "  scale_fill_manual(name = \"Prediction Intervals\", \n",
    "                    values = c(\"95% PI\" = \"lightblue\", \"80% PI\" = \"skyblue\")) +\n",
    "  scale_color_manual(name = \"Series\", \n",
    "                     values = c(\"Forecast\" = \"blue\", \"Actual\" = \"red\")) +\n",
    "  labs(title = \"Bitcoin Price Forecast with Prediction Intervals\",\n",
    "       x = \"Days Ahead\",\n",
    "       y = \"Price (USD)\") +\n",
    "  theme_minimal() +\n",
    "  theme(legend.position = \"right\",\n",
    "        plot.title = element_text(hjust = 0.5, size = 14, face = \"bold\"))\n",
    "\n",
    "print(forecast_plot)"
   ]
  }
 ],
 "metadata": {
  "kernelspec": {
   "display_name": "R",
   "language": "R",
   "name": "ir"
  },
  "language_info": {
   "codemirror_mode": "r",
   "file_extension": ".r",
   "mimetype": "text/x-r-source",
   "name": "R",
   "pygments_lexer": "r",
   "version": "4.3.3"
  }
 },
 "nbformat": 4,
 "nbformat_minor": 2
}
