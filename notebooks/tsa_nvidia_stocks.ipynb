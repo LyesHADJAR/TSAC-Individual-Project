{
 "cells": [
  {
   "cell_type": "markdown",
   "metadata": {},
   "source": [
    "# Time Series Analysis of NVIDIA Stock Prices (1999-2025)"
   ]
  },
  {
   "cell_type": "code",
   "execution_count": null,
   "metadata": {
    "vscode": {
     "languageId": "r"
    }
   },
   "outputs": [],
   "source": [
    "# Install required packages\n",
    "install.packages(c(\"ggplot2\", \"forecast\", \"TSA\", \"tseries\", \"dplyr\",\n",
    "                   \"knitr\", \"gridExtra\", \"MASS\", \"lawstat\",\n",
    "                   \"FinTS\", \"ggthemes\", \"lubridate\"))"
   ]
  },
  {
   "cell_type": "code",
   "execution_count": 1,
   "metadata": {
    "vscode": {
     "languageId": "r"
    }
   },
   "outputs": [],
   "source": [
    "suppressPackageStartupMessages({\n",
    "  library(ggplot2)    # Data visualization\n",
    "  library(forecast)   # Time series analysis (excluding auto.arima)\n",
    "  library(tseries)    # Additional time series tests\n",
    "  library(dplyr)      # Data manipulation\n",
    "  library(lubridate)  # Date handling\n",
    "  library(gridExtra)  # Multiple plot arrangement\n",
    "  library(MASS)       # Statistical functions\n",
    "  library(knitr)      # For table formatting\n",
    "  library(lawstat)    # For runs test\n",
    "  library(FinTS)      # For ARCH test\n",
    "})"
   ]
  },
  {
   "cell_type": "code",
   "execution_count": 3,
   "metadata": {
    "vscode": {
     "languageId": "r"
    }
   },
   "outputs": [],
   "source": [
    "# Plot settings\n",
    "options(repr.plot.width = 12, repr.plot.height = 6)\n",
    "theme_tsa <- function() {\n",
    "  theme_minimal() +\n",
    "  theme(\n",
    "    plot.title = element_text(hjust = 0.5, face = \"bold\", size = 14),\n",
    "    plot.subtitle = element_text(hjust = 0.5, size = 12),\n",
    "    axis.title = element_text(face = \"bold\"),\n",
    "    legend.position = \"bottom\",\n",
    "    panel.grid.minor = element_line(color = \"gray90\"),\n",
    "    panel.grid.major = element_line(color = \"gray85\")\n",
    "  )\n",
    "}"
   ]
  },
  {
   "cell_type": "code",
   "execution_count": null,
   "metadata": {
    "vscode": {
     "languageId": "r"
    }
   },
   "outputs": [],
   "source": []
  }
 ],
 "metadata": {
  "kernelspec": {
   "display_name": "R",
   "language": "R",
   "name": "ir"
  },
  "language_info": {
   "codemirror_mode": "r",
   "file_extension": ".r",
   "mimetype": "text/x-r-source",
   "name": "R",
   "pygments_lexer": "r",
   "version": "4.3.3"
  }
 },
 "nbformat": 4,
 "nbformat_minor": 2
}
